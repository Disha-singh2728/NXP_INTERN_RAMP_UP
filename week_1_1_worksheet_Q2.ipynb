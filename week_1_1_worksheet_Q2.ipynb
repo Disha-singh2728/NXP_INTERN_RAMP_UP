{
 "cells": [
  {
   "cell_type": "code",
   "execution_count": 17,
   "id": "6c8e429b",
   "metadata": {},
   "outputs": [
    {
     "name": "stdout",
     "output_type": "stream",
     "text": [
      "Enter Source./folder1\n",
      "Enter Destination./folder2\n"
     ]
    }
   ],
   "source": [
    "# Importing the modules\n",
    "import os\n",
    "import shutil\n",
    "\n",
    "src_dir=input(\"Enter Source\")\n",
    "dest_dir = input(\"Enter Destination\")\n",
    "\n",
    "for fname in os.listdir(src_dir):\n",
    "    src_file = os.path.join(src_dir, fname)\n",
    "    shutil.copy(src_file,dest_dir) #copy the file to destination dir\n",
    "for fname in os.listdir(dest_dir):    \n",
    "    dst_file = os.path.join(dest_dir,fname)\n",
    "    new_dst_file_name = os.path.join(dest_dir,\"Copy_\"+fname.split(\".\")[0]+\"_2.\"+fname.split(\".\")[-1])\n",
    "\n",
    "    os.rename(dst_file, new_dst_file_name)#rename"
   ]
  }
 ],
 "metadata": {
  "kernelspec": {
   "display_name": "Python 3 (ipykernel)",
   "language": "python",
   "name": "python3"
  },
  "language_info": {
   "codemirror_mode": {
    "name": "ipython",
    "version": 3
   },
   "file_extension": ".py",
   "mimetype": "text/x-python",
   "name": "python",
   "nbconvert_exporter": "python",
   "pygments_lexer": "ipython3",
   "version": "3.9.15"
  }
 },
 "nbformat": 4,
 "nbformat_minor": 5
}
