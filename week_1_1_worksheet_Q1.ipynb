{
 "cells": [
  {
   "cell_type": "markdown",
   "id": "2fdb2899",
   "metadata": {},
   "source": [
    "### Create a text file (file 1) and fill it contents with random integers and strings (5000 lines to be filled).\n",
    "  Populate strings and integers randomly in different lines,but make sure each type of line consist of minimum 45% of the file . Lngth of each line should be between 15-20 characters\n"
   ]
  },
  {
   "cell_type": "code",
   "execution_count": 5,
   "id": "c6203d69",
   "metadata": {},
   "outputs": [],
   "source": [
    "import string\n",
    "import random\n",
    "import numpy as np"
   ]
  },
  {
   "cell_type": "code",
   "execution_count": 71,
   "id": "4219253b",
   "metadata": {},
   "outputs": [],
   "source": [
    "# Program to generate a random number between 15-20digits\n",
    "def random_number():\n",
    "        # initializing size of string\n",
    "    N = random.randint(15,20)\n",
    "    # using random.choices()\n",
    "    # generating random strings\n",
    "    res = ''.join(random.choices(string.digits+\" \", k=N))\n",
    "\n",
    "    # print result\n",
    "    #print(\"The generated random string : \" + str(res))\n",
    "    return res"
   ]
  },
  {
   "cell_type": "code",
   "execution_count": 72,
   "id": "26a2571d",
   "metadata": {},
   "outputs": [],
   "source": [
    "# Program to generate a random number between 15-20 character\n",
    "def random_string():\n",
    "    # initializing size of string\n",
    "    N = random.randint(15,20)\n",
    "    # using random.choices()\n",
    "    # generating random strings\n",
    "    res = ''.join(random.choices(string.ascii_lowercase+\" \"+string.ascii_uppercase, k=N))\n",
    "\n",
    "    # print result\n",
    "    #print(\"The generated random string : \" + str(res))\n",
    "    return res"
   ]
  },
  {
   "cell_type": "code",
   "execution_count": 78,
   "id": "868277ae",
   "metadata": {},
   "outputs": [
    {
     "name": "stdout",
     "output_type": "stream",
     "text": [
      "[0.50230284]\n",
      "percentage of integer lines:  49.4\n",
      "percentage of string lines:  50.6\n"
     ]
    }
   ],
   "source": [
    "# importing module\n",
    "import numpy as np\n",
    "counts=0\n",
    "counti=0\n",
    "data=[]\n",
    "division=np.random.uniform(0.45,0.55, 1)\n",
    "print(division)\n",
    "# numpy.random.uniform() method\n",
    "for i in range(5000):\n",
    "    r = np.random.uniform(size=1)\n",
    "    #print(r)\n",
    "    if(r>=division):\n",
    "        counti+=1\n",
    "        data.append(random_number())\n",
    "    else:\n",
    "        counts+=1\n",
    "        data.append(random_string())\n",
    "# printing numbers\n",
    "print(\"percentage of integer lines: \",(counti/(counti+counts))*100)\n",
    "print(\"percentage of string lines: \",(counts/(counti+counts))*100)"
   ]
  },
  {
   "cell_type": "code",
   "execution_count": 28,
   "id": "b6ff2362",
   "metadata": {},
   "outputs": [
    {
     "name": "stdout",
     "output_type": "stream",
     "text": [
      "Done\n"
     ]
    }
   ],
   "source": [
    "# open file in write mode\n",
    "with open(r'./file1.txt', 'w') as fp:\n",
    "    for item in data:\n",
    "        # write each item on a new line\n",
    "        fp.write(\"%s\\n\" % item)\n",
    "    print('Done')"
   ]
  },
  {
   "cell_type": "code",
   "execution_count": null,
   "id": "3823bb7f",
   "metadata": {},
   "outputs": [],
   "source": []
  },
  {
   "cell_type": "markdown",
   "id": "85d579cd",
   "metadata": {},
   "source": [
    "### Create another file (file 2). In file 2 read data from file 1; \n",
    "* Convert integers to hex numbers in 0x format (i.e. 0x1A,0x10 etc); \n",
    "* Reverse the strings (i.e. ABC is a boy. -> yob a si CBA. ). "
   ]
  },
  {
   "cell_type": "code",
   "execution_count": 1,
   "id": "d1d72ce4",
   "metadata": {},
   "outputs": [
    {
     "name": "stdout",
     "output_type": "stream",
     "text": [
      "5000\n"
     ]
    }
   ],
   "source": [
    "# opening the file in read mode\n",
    "my_file = open(\"./file.txt\", \"r\")\n",
    "  \n",
    "# reading the file\n",
    "data = my_file.read()\n",
    "  \n",
    "# replacing end splitting the text \n",
    "# when newline ('\\n') is seen.\n",
    "data_into_list = data.split(\"\\n\")\n",
    "data_into_list=data_into_list[:-1]\n",
    "print(len(data_into_list))\n",
    "my_file.close()"
   ]
  },
  {
   "cell_type": "code",
   "execution_count": 25,
   "id": "1119d6f7",
   "metadata": {},
   "outputs": [],
   "source": [
    "data=[]\n",
    "for line in data_into_list:\n",
    "    #print(line)\n",
    "    #print(type(line))\n",
    "    line1 = line.replace(\" \",\"\");  \n",
    "    if(line1.isnumeric()):\n",
    "        data.append(line.encode('utf-8').hex())\n",
    "    if(line1.isalpha()):\n",
    "        data.append(line[::-1])\n",
    "    "
   ]
  },
  {
   "cell_type": "code",
   "execution_count": 27,
   "id": "3c2ba1fc",
   "metadata": {},
   "outputs": [
    {
     "name": "stdout",
     "output_type": "stream",
     "text": [
      "Done\n"
     ]
    }
   ],
   "source": [
    "# open file in write mode\n",
    "with open(r'./file2.txt', 'w') as fp:\n",
    "    for item in data:\n",
    "        # write each item on a new line\n",
    "        fp.write(\"%s\\n\" % item)\n",
    "    print('Done')"
   ]
  }
 ],
 "metadata": {
  "kernelspec": {
   "display_name": "Python 3 (ipykernel)",
   "language": "python",
   "name": "python3"
  },
  "language_info": {
   "codemirror_mode": {
    "name": "ipython",
    "version": 3
   },
   "file_extension": ".py",
   "mimetype": "text/x-python",
   "name": "python",
   "nbconvert_exporter": "python",
   "pygments_lexer": "ipython3",
   "version": "3.9.15"
  }
 },
 "nbformat": 4,
 "nbformat_minor": 5
}
